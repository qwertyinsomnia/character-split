{
 "cells": [
  {
   "cell_type": "code",
   "execution_count": 1,
   "metadata": {},
   "outputs": [],
   "source": [
    "import pickle\n",
    "\n",
    "data = {}\n",
    "\n",
    "for i in ['chaizi/chaizi-jt.txt']:\n",
    "    with open(i, 'rt', encoding='UTF-8') as fd:\n",
    "        for line in fd:\n",
    "            item_list = line.strip().split('\\t')\n",
    "            key = item_list[0]\n",
    "            value = [i.strip().split() for i in item_list[1:]]\n",
    "\n",
    "            data[key] = value\n",
    "\n",
    "output_file = 'hanzi_chaizi/data/data.pkl'\n",
    "\n",
    "with open(output_file, 'wb') as fd:\n",
    "    pickle.dump(data, fd)\n"
   ]
  },
  {
   "cell_type": "code",
   "execution_count": 3,
   "metadata": {},
   "outputs": [
    {
     "name": "stdout",
     "output_type": "stream",
     "text": [
      "请输入文字:我没有名字我才两天大\n",
      "我没有名字我才两天大\n",
      "['丿', '戈', '亅', '㇀']\n",
      "['丿', '戈', '亅', '㇀', '氵', '几']\n",
      "['丿', '戈', '亅', '㇀', '氵', '几', '一', '丿', '月']\n",
      "['丿', '戈', '亅', '㇀', '氵', '几', '一', '丿', '月', '夕', '口']\n",
      "['丿', '戈', '亅', '㇀', '氵', '几', '一', '丿', '月', '夕', '口', '宀', '子']\n",
      "['丿', '戈', '亅', '㇀', '氵', '几', '一', '丿', '月', '夕', '口', '宀', '子', '丿', '戈', '亅', '㇀']\n",
      "['丿', '戈', '亅', '㇀', '氵', '几', '一', '丿', '月', '夕', '口', '宀', '子', '丿', '戈', '亅', '㇀', '一', '亅', '丿']\n",
      "['丿', '戈', '亅', '㇀', '氵', '几', '一', '丿', '月', '夕', '口', '宀', '子', '丿', '戈', '亅', '㇀', '一', '亅', '丿', '一', '冂', '人', '人']\n",
      "['丿', '戈', '亅', '㇀', '氵', '几', '一', '丿', '月', '夕', '口', '宀', '子', '丿', '戈', '亅', '㇀', '一', '亅', '丿', '一', '冂', '人', '人', '一', '大']\n",
      "['丿', '戈', '亅', '㇀', '氵', '几', '一', '丿', '月', '夕', '口', '宀', '子', '丿', '戈', '亅', '㇀', '一', '亅', '丿', '一', '冂', '人', '人', '一', '大', '人', '一']\n"
     ]
    }
   ],
   "source": [
    "from hanzi_chaizi import HanziChaizi\n",
    "import random\n",
    "from PIL import Image, ImageDraw, ImageFont\n",
    "import numpy as np\n",
    "from tkinter import _flatten\n",
    "\n",
    "im01 = Image.open(\"testpicc.jpg\")     #创建输出空白图片 尺寸600*800\n",
    "draw = ImageDraw.Draw(im01)\n",
    "\n",
    "location=[[] for j in range(117)]\n",
    "\n",
    "for i in range(9):\n",
    "    for j in range(13):\n",
    "        location[j+13*i].append([100+50*i,100+50*j])\n",
    "#print(location)\n",
    "seq  = [i for i in range(1,117)] #生成1到117元素的list\n",
    "\n",
    "word = input(\"请输入文字:\")\n",
    "print(word)\n",
    "file_handle=open('words.txt',mode='w')\n",
    "file_handle.write(word)\n",
    "file_handle.close()\n",
    "\n",
    "f = open(r'words.txt','r')\n",
    "a = f.read() \n",
    "result2=[]\n",
    "list(a)  \n",
    "aList=list(a)  #输入字符转化为list\n",
    "\n",
    "for item in aList:  \n",
    "    hc = HanziChaizi()\n",
    "    result1 = hc.query(item)\n",
    "    result2=result2+result1\n",
    "    print(result2)          #拆字之后存放到一个array\n",
    "    #print(len(result))\n",
    "count = len(result2)\n",
    "loca= random.sample(seq,count) #获取随机数\n",
    "\n",
    "for i in range(0,count):\n",
    "    size=random.randint(25,50)\n",
    "    #print(result[i])\n",
    "    ft = ImageFont.truetype(\"simsun.ttc\", size)\n",
    "    b=(_flatten(location[loca[i]]))\n",
    "    x= b[0]\n",
    "    y= b[1]\n",
    "    draw.text((x,y), result2[i],font = ft, fill = 'black')\n",
    "\n",
    "im01.show()    #显示输出\n",
    "im01.save('strokes.jpg')"
   ]
  },
  {
   "cell_type": "code",
   "execution_count": 6,
   "metadata": {},
   "outputs": [
    {
     "name": "stdout",
     "output_type": "stream",
     "text": [
      "请输入文字:我没有名字我才两天大\n",
      "我没有名字我才两天大\n"
     ]
    }
   ],
   "source": [
    "word = input(\"请输入文字:\")\n",
    "print(word)\n",
    "file_handle=open('words.txt',mode='w')\n",
    "file_handle.write(word)\n",
    "file_handle.close()"
   ]
  },
  {
   "cell_type": "code",
   "execution_count": null,
   "metadata": {},
   "outputs": [],
   "source": [
    "面对浩瀚的星海我们微小的像尘埃"
   ]
  }
 ],
 "metadata": {
  "kernelspec": {
   "display_name": "Python 3",
   "language": "python",
   "name": "python3"
  },
  "language_info": {
   "codemirror_mode": {
    "name": "ipython",
    "version": 3
   },
   "file_extension": ".py",
   "mimetype": "text/x-python",
   "name": "python",
   "nbconvert_exporter": "python",
   "pygments_lexer": "ipython3",
   "version": "3.5.4"
  }
 },
 "nbformat": 4,
 "nbformat_minor": 2
}

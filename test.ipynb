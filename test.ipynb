{
 "cells": [
  {
   "cell_type": "code",
   "execution_count": 11,
   "metadata": {},
   "outputs": [],
   "source": [
    "import pickle\n",
    "\n",
    "data = {}\n",
    "\n",
    "for i in ['chaizi/chaizi-jt.txt']:\n",
    "    with open(i, 'rt', encoding='UTF-8') as fd:\n",
    "        for line in fd:\n",
    "            item_list = line.strip().split('\\t')\n",
    "            key = item_list[0]\n",
    "            value = [i.strip().split() for i in item_list[1:]]\n",
    "\n",
    "            data[key] = value\n",
    "\n",
    "output_file = 'hanzi_chaizi/data/data.pkl'\n",
    "\n",
    "with open(output_file, 'wb') as fd:\n",
    "    pickle.dump(data, fd)\n",
    "\n"
   ]
  },
  {
   "cell_type": "code",
   "execution_count": 15,
   "metadata": {},
   "outputs": [
    {
     "ename": "UnicodeDecodeError",
     "evalue": "'gbk' codec can't decode byte 0xa8 in position 9: illegal multibyte sequence",
     "output_type": "error",
     "traceback": [
      "\u001b[1;31m---------------------------------------------------------------------------\u001b[0m",
      "\u001b[1;31mUnicodeDecodeError\u001b[0m                        Traceback (most recent call last)",
      "\u001b[1;32m<ipython-input-15-6d353ea2991f>\u001b[0m in \u001b[0;36m<module>\u001b[1;34m\u001b[0m\n\u001b[0;32m     18\u001b[0m \u001b[1;33m\u001b[0m\u001b[0m\n\u001b[0;32m     19\u001b[0m \u001b[0mf\u001b[0m \u001b[1;33m=\u001b[0m \u001b[0mopen\u001b[0m\u001b[1;33m(\u001b[0m\u001b[1;34mr'test.txt'\u001b[0m\u001b[1;33m,\u001b[0m\u001b[1;34m'r'\u001b[0m\u001b[1;33m)\u001b[0m\u001b[1;33m\u001b[0m\u001b[0m\n\u001b[1;32m---> 20\u001b[1;33m \u001b[0ma\u001b[0m \u001b[1;33m=\u001b[0m \u001b[0mf\u001b[0m\u001b[1;33m.\u001b[0m\u001b[0mread\u001b[0m\u001b[1;33m(\u001b[0m\u001b[1;33m)\u001b[0m\u001b[1;33m\u001b[0m\u001b[0m\n\u001b[0m\u001b[0;32m     21\u001b[0m \u001b[0mresult2\u001b[0m\u001b[1;33m=\u001b[0m\u001b[1;33m[\u001b[0m\u001b[1;33m]\u001b[0m\u001b[1;33m\u001b[0m\u001b[0m\n\u001b[0;32m     22\u001b[0m \u001b[0mlist\u001b[0m\u001b[1;33m(\u001b[0m\u001b[0ma\u001b[0m\u001b[1;33m)\u001b[0m\u001b[1;33m\u001b[0m\u001b[0m\n",
      "\u001b[1;31mUnicodeDecodeError\u001b[0m: 'gbk' codec can't decode byte 0xa8 in position 9: illegal multibyte sequence"
     ]
    }
   ],
   "source": [
    "# -*- coding: utf-8 -*-\n",
    "from hanzi_chaizi import HanziChaizi\n",
    "import random\n",
    "from PIL import Image, ImageDraw, ImageFont\n",
    "import numpy as np\n",
    "from tkinter import _flatten\n",
    "\n",
    "im01 = Image.open(\"testpicc.jpg\")     #创建输出空白图片 尺寸600*800\n",
    "draw = ImageDraw.Draw(im01)\n",
    "\n",
    "location=[[] for j in range(117)]\n",
    "\n",
    "for i in range(9):\n",
    "    for j in range(13):\n",
    "        location[j+13*i].append([100+50*i,100+50*j])\n",
    "#print(location)\n",
    "seq  = [i for i in range(1,117)] #生成1到117元素的list\n",
    "\n",
    "f = open(r'test.txt','r')\n",
    "a = f.read() \n",
    "result2=[]\n",
    "list(a)  \n",
    "aList=list(a)  #输入字符转化为list\n",
    "\n",
    "for item in aList:  \n",
    "    hc = HanziChaizi()\n",
    "    result1 = hc.query(item)\n",
    "    result2=result2+result1\n",
    "    print(result2)          #拆字之后存放到一个array\n",
    "    #print(len(result))\n",
    "count = len(result2)\n",
    "loca= random.sample(seq,count) #获取随机数\n",
    "\n",
    "for i in range(0,count):\n",
    "    size=random.randint(25,50)\n",
    "    #print(result[i])\n",
    "    ft = ImageFont.truetype(\"simsun.ttc\", size)\n",
    "    b=(_flatten(location[loca[i]]))\n",
    "    x= b[0]\n",
    "    y= b[1]\n",
    "    draw.text((x,y), result2[i],font = ft, fill = 'black')\n",
    "\n",
    "im01.show()    #显示输出\n",
    "im01.save('strokes.jpg')"
   ]
  },
  {
   "cell_type": "code",
   "execution_count": 193,
   "metadata": {},
   "outputs": [],
   "source": [
    "import pickle\n",
    "\n",
    "data = {}\n",
    "\n",
    "for i in ['chaizi/chaizi-ft.txt', 'chaizi/chaizi-jt.txt']:\n",
    "    with open(i, 'rt', encoding='UTF-8') as fd:\n",
    "        for line in fd:\n",
    "            item_list = line.strip().split('\\t')\n",
    "            key = item_list[0]\n",
    "            value = [i.strip().split() for i in item_list[1:]]\n",
    "\n",
    "            data[key] = value\n",
    "\n",
    "output_file = 'hanzi_chaizi/data/data.pkl'\n",
    "\n",
    "with open(output_file, 'wb') as fd:\n",
    "    pickle.dump(data, fd)\n",
    "\n"
   ]
  },
  {
   "cell_type": "code",
   "execution_count": 7,
   "metadata": {},
   "outputs": [
    {
     "name": "stdout",
     "output_type": "stream",
     "text": [
      "266\n",
      "483\n"
     ]
    }
   ],
   "source": [
    "import random\n",
    "from PIL import Image, ImageDraw, ImageFont\n",
    "\n",
    "im02 = Image.open(\"testpicc.jpg\")     #600*800\n",
    "draw = ImageDraw.Draw(im02)\n",
    "\n",
    "ft1 = ImageFont.truetype(\"AdobeMingStd-Light.otf\", random.randint(20,50))\n",
    "\n",
    "x1= random.randint(200,400)\n",
    "y1= random.randint(300,500)\n",
    "\n",
    "print(x1)\n",
    "print(y1)\n",
    "draw.text((x1,y1), u\"𠃍\",font = ft1, fill = 'black')\n",
    "\n",
    "im02.show()\n"
   ]
  },
  {
   "cell_type": "code",
   "execution_count": 47,
   "metadata": {},
   "outputs": [
    {
     "name": "stdout",
     "output_type": "stream",
     "text": [
      "施泽楠是傻逼\n",
      "['施泽楠是傻逼']\n"
     ]
    }
   ],
   "source": [
    "\n",
    "f = open(r'words.txt','r')\n",
    "a = f.read()\n",
    "print(a)\n",
    "ws = []\n",
    "for w in a.split():\n",
    "    ws.append(w)\n",
    "     \n",
    "print(ws)\n"
   ]
  },
  {
   "cell_type": "code",
   "execution_count": 69,
   "metadata": {},
   "outputs": [
    {
     "name": "stdout",
     "output_type": "stream",
     "text": [
      "['施泽楠是傻逼']\n"
     ]
    }
   ],
   "source": [
    "import numpy as np\n",
    "f = open(r\"words.txt\")\n",
    "line = f.readline()\n",
    "data_list = []\n",
    "while line:\n",
    "    num = list(map(str,line.split()))\n",
    "    data_list.append(num)\n",
    "    line = f.readline()\n",
    "f.close()\n",
    "data_array = np.array(data_list)\n",
    "print(data_array[0])"
   ]
  },
  {
   "cell_type": "code",
   "execution_count": 72,
   "metadata": {},
   "outputs": [
    {
     "name": "stdout",
     "output_type": "stream",
     "text": [
      "[['施泽楠是傻逼']]\n"
     ]
    }
   ],
   "source": [
    "import numpy as np \n",
    "file = open(\"words.txt\",\"r\")\n",
    "list_arr = file.readlines()\n",
    "l = len(list_arr)\n",
    "for i in range(l):     \n",
    "    list_arr[i] = list_arr[i].strip()     \n",
    "    list_arr[i] = list_arr[i].strip('[]')     \n",
    "    list_arr[i] = list_arr[i].split(\", \")\n",
    "a = np.array(list_arr)\n",
    "a = a.astype(str)\n",
    "print (a)\n",
    "file.close()\n"
   ]
  },
  {
   "cell_type": "code",
   "execution_count": 73,
   "metadata": {},
   "outputs": [
    {
     "name": "stdout",
     "output_type": "stream",
     "text": [
      "施\n",
      "泽\n",
      "楠\n",
      "是\n",
      "傻\n",
      "逼\n"
     ]
    }
   ],
   "source": [
    "a='施泽楠是傻逼'  \n",
    "list(a)  \n",
    "aList=list(a)  \n",
    "for item in aList:  \n",
    "    print(item)"
   ]
  },
  {
   "cell_type": "code",
   "execution_count": 8,
   "metadata": {},
   "outputs": [
    {
     "name": "stdout",
     "output_type": "stream",
     "text": [
      "450\n"
     ]
    }
   ],
   "source": [
    "import numpy as np\n",
    "from tkinter import _flatten\n",
    "location=[[] for j in range(117)]\n",
    "#for i in range(9):\n",
    "    #location[i*2+1].append([i,i])\n",
    "#print(location)\n",
    "for i in range(9):\n",
    "    for j in range(13):\n",
    "        location[j+13*i].append([100+50*i,100+50*j])\n",
    "seq  = [i for i in range(1,117)] #生成1到117元素的list\n",
    "loca= random.sample(seq,3) #获取900个随机数\n",
    "b=(_flatten(location[loca[2]]))\n",
    "print(b[1])"
   ]
  },
  {
   "cell_type": "code",
   "execution_count": null,
   "metadata": {},
   "outputs": [],
   "source": []
  },
  {
   "cell_type": "code",
   "execution_count": null,
   "metadata": {},
   "outputs": [],
   "source": []
  }
 ],
 "metadata": {
  "kernelspec": {
   "display_name": "Python 3",
   "language": "python",
   "name": "python3"
  },
  "language_info": {
   "codemirror_mode": {
    "name": "ipython",
    "version": 3
   },
   "file_extension": ".py",
   "mimetype": "text/x-python",
   "name": "python",
   "nbconvert_exporter": "python",
   "pygments_lexer": "ipython3",
   "version": "3.5.4"
  }
 },
 "nbformat": 4,
 "nbformat_minor": 2
}
